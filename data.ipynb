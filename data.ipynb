{
 "cells": [
  {
   "cell_type": "code",
   "execution_count": 1,
   "metadata": {
    "collapsed": true,
    "ExecuteTime": {
     "start_time": "2023-05-29T01:00:18.649601Z",
     "end_time": "2023-05-29T01:00:22.335258Z"
    }
   },
   "outputs": [],
   "source": [
    "import pandas as pd\n",
    "data = pd.read_csv(\"E:\\Project\\Data\\cancer_after2015.csv\", delimiter=\",\")"
   ]
  },
  {
   "cell_type": "code",
   "execution_count": 2,
   "outputs": [
    {
     "data": {
      "text/plain": "     Year_olds  Year_diagnosis     Sex                  Race  \\\n0  35-39 years            2008  Female  Hispanic (All Races)   \n1  60-64 years            2008  Female    Non-Hispanic White   \n2  80-84 years            2006    Male    Non-Hispanic White   \n3  70-74 years            2010  Female    Non-Hispanic Black   \n4  60-64 years            2005  Female    Non-Hispanic White   \n5    85+ years            2007  Female    Non-Hispanic White   \n6  70-74 years            2005  Female    Non-Hispanic White   \n7  80-84 years            2009  Female    Non-Hispanic White   \n8  75-79 years            2006  Female    Non-Hispanic White   \n9  35-39 years            2004  Female    Non-Hispanic White   \n\n                                         Site_Recode  \\\n0                              Rectosigmoid Junction   \n1  Trachea, Mediastinum and Other Respiratory Organs   \n2                               Melanoma of the Skin   \n3                                             Breast   \n4                                             Breast   \n5                            Kidney and Renal Pelvis   \n6                                             Breast   \n7                                            Stomach   \n8                                  Lung and Bronchus   \n9                                             Breast   \n\n                                  AYA_Rite                 Laterality Stage_T  \\\n0          9.3.5.2 Rectum - adenocarcinoma         Not a paired  site      T3   \n1                4.10 Spindle cell sarcoma         Not a paired  site      T2   \n2                      8.3 Other malignant  Right - origin of primary      T4   \n3         9.6.1 Breast - infiltrating duct   Left - origin of primary      T3   \n4                   9.6.3 Breast - lobular   Left - origin of primary      T4   \n5                      9.8.3 Other urinary   Left - origin of primary      T3   \n6         9.6.1 Breast - infiltrating duct   Left - origin of primary      T4   \n7            9.3.2.2 Stomach - signet ring         Not a paired  site      T3   \n8  9.4.2.1 Non-small cell - adenocarcinoma   Left - origin of primary      T2   \n9         9.6.1 Breast - infiltrating duct  Right - origin of primary      T3   \n\n  Stage_N Stage_M  ... Survival_months             Sequence_number FMI  \\\n0      N1      M1  ...             155  2nd of 2 or more primaries  No   \n1      N0      M0  ...               0  2nd of 2 or more primaries  No   \n2      N0      M0  ...              94  2nd of 2 or more primaries  No   \n3      N0      M0  ...              12  3rd of 3 or more primaries  No   \n4      N0      M0  ...              81  2nd of 2 or more primaries  No   \n5      N0      M0  ...               4  2nd of 2 or more primaries  No   \n6      N0      M0  ...               7  2nd of 2 or more primaries  No   \n7      N0      M0  ...              11  2nd of 2 or more primaries  No   \n8      N0      M0  ...             128  2nd of 2 or more primaries  No   \n9      N0      M0  ...             130  2nd of 2 or more primaries  No   \n\n  Numbers_Tumors Years_followup            Years_death  \\\n0              2           2020  Alive at last contact   \n1              2           2008                   2008   \n2              2           2014                   2014   \n3              3           2011                   2011   \n4              2           2012                   2012   \n5              2           2007                   2007   \n6              2           2005                   2005   \n7              2           2010                   2010   \n8              2           2017                   2017   \n9              3           2015                   2015   \n\n                          Marital    Income  \\\n0          Single (never married)  $75,000+   \n1                         Widowed  $75,000+   \n2                        Divorced  $75,000+   \n3          Single (never married)  $75,000+   \n4                         Widowed  $75,000+   \n5                         Widowed  $75,000+   \n6                         Widowed  $75,000+   \n7                         Widowed  $75,000+   \n8  Married (including common law)  $75,000+   \n9  Married (including common law)  $75,000+   \n\n                                       Rural_Urban Alive_5years  \n0  Counties in metropolitan areas ge 1 million pop        Alive  \n1  Counties in metropolitan areas ge 1 million pop        Death  \n2  Counties in metropolitan areas ge 1 million pop        Alive  \n3  Counties in metropolitan areas ge 1 million pop        Death  \n4  Counties in metropolitan areas ge 1 million pop        Alive  \n5  Counties in metropolitan areas ge 1 million pop        Death  \n6  Counties in metropolitan areas ge 1 million pop        Death  \n7  Counties in metropolitan areas ge 1 million pop        Death  \n8  Counties in metropolitan areas ge 1 million pop        Alive  \n9  Counties in metropolitan areas ge 1 million pop        Alive  \n\n[10 rows x 31 columns]",
      "text/html": "<div>\n<style scoped>\n    .dataframe tbody tr th:only-of-type {\n        vertical-align: middle;\n    }\n\n    .dataframe tbody tr th {\n        vertical-align: top;\n    }\n\n    .dataframe thead th {\n        text-align: right;\n    }\n</style>\n<table border=\"1\" class=\"dataframe\">\n  <thead>\n    <tr style=\"text-align: right;\">\n      <th></th>\n      <th>Year_olds</th>\n      <th>Year_diagnosis</th>\n      <th>Sex</th>\n      <th>Race</th>\n      <th>Site_Recode</th>\n      <th>AYA_Rite</th>\n      <th>Laterality</th>\n      <th>Stage_T</th>\n      <th>Stage_N</th>\n      <th>Stage_M</th>\n      <th>...</th>\n      <th>Survival_months</th>\n      <th>Sequence_number</th>\n      <th>FMI</th>\n      <th>Numbers_Tumors</th>\n      <th>Years_followup</th>\n      <th>Years_death</th>\n      <th>Marital</th>\n      <th>Income</th>\n      <th>Rural_Urban</th>\n      <th>Alive_5years</th>\n    </tr>\n  </thead>\n  <tbody>\n    <tr>\n      <th>0</th>\n      <td>35-39 years</td>\n      <td>2008</td>\n      <td>Female</td>\n      <td>Hispanic (All Races)</td>\n      <td>Rectosigmoid Junction</td>\n      <td>9.3.5.2 Rectum - adenocarcinoma</td>\n      <td>Not a paired  site</td>\n      <td>T3</td>\n      <td>N1</td>\n      <td>M1</td>\n      <td>...</td>\n      <td>155</td>\n      <td>2nd of 2 or more primaries</td>\n      <td>No</td>\n      <td>2</td>\n      <td>2020</td>\n      <td>Alive at last contact</td>\n      <td>Single (never married)</td>\n      <td>$75,000+</td>\n      <td>Counties in metropolitan areas ge 1 million pop</td>\n      <td>Alive</td>\n    </tr>\n    <tr>\n      <th>1</th>\n      <td>60-64 years</td>\n      <td>2008</td>\n      <td>Female</td>\n      <td>Non-Hispanic White</td>\n      <td>Trachea, Mediastinum and Other Respiratory Organs</td>\n      <td>4.10 Spindle cell sarcoma</td>\n      <td>Not a paired  site</td>\n      <td>T2</td>\n      <td>N0</td>\n      <td>M0</td>\n      <td>...</td>\n      <td>0</td>\n      <td>2nd of 2 or more primaries</td>\n      <td>No</td>\n      <td>2</td>\n      <td>2008</td>\n      <td>2008</td>\n      <td>Widowed</td>\n      <td>$75,000+</td>\n      <td>Counties in metropolitan areas ge 1 million pop</td>\n      <td>Death</td>\n    </tr>\n    <tr>\n      <th>2</th>\n      <td>80-84 years</td>\n      <td>2006</td>\n      <td>Male</td>\n      <td>Non-Hispanic White</td>\n      <td>Melanoma of the Skin</td>\n      <td>8.3 Other malignant</td>\n      <td>Right - origin of primary</td>\n      <td>T4</td>\n      <td>N0</td>\n      <td>M0</td>\n      <td>...</td>\n      <td>94</td>\n      <td>2nd of 2 or more primaries</td>\n      <td>No</td>\n      <td>2</td>\n      <td>2014</td>\n      <td>2014</td>\n      <td>Divorced</td>\n      <td>$75,000+</td>\n      <td>Counties in metropolitan areas ge 1 million pop</td>\n      <td>Alive</td>\n    </tr>\n    <tr>\n      <th>3</th>\n      <td>70-74 years</td>\n      <td>2010</td>\n      <td>Female</td>\n      <td>Non-Hispanic Black</td>\n      <td>Breast</td>\n      <td>9.6.1 Breast - infiltrating duct</td>\n      <td>Left - origin of primary</td>\n      <td>T3</td>\n      <td>N0</td>\n      <td>M0</td>\n      <td>...</td>\n      <td>12</td>\n      <td>3rd of 3 or more primaries</td>\n      <td>No</td>\n      <td>3</td>\n      <td>2011</td>\n      <td>2011</td>\n      <td>Single (never married)</td>\n      <td>$75,000+</td>\n      <td>Counties in metropolitan areas ge 1 million pop</td>\n      <td>Death</td>\n    </tr>\n    <tr>\n      <th>4</th>\n      <td>60-64 years</td>\n      <td>2005</td>\n      <td>Female</td>\n      <td>Non-Hispanic White</td>\n      <td>Breast</td>\n      <td>9.6.3 Breast - lobular</td>\n      <td>Left - origin of primary</td>\n      <td>T4</td>\n      <td>N0</td>\n      <td>M0</td>\n      <td>...</td>\n      <td>81</td>\n      <td>2nd of 2 or more primaries</td>\n      <td>No</td>\n      <td>2</td>\n      <td>2012</td>\n      <td>2012</td>\n      <td>Widowed</td>\n      <td>$75,000+</td>\n      <td>Counties in metropolitan areas ge 1 million pop</td>\n      <td>Alive</td>\n    </tr>\n    <tr>\n      <th>5</th>\n      <td>85+ years</td>\n      <td>2007</td>\n      <td>Female</td>\n      <td>Non-Hispanic White</td>\n      <td>Kidney and Renal Pelvis</td>\n      <td>9.8.3 Other urinary</td>\n      <td>Left - origin of primary</td>\n      <td>T3</td>\n      <td>N0</td>\n      <td>M0</td>\n      <td>...</td>\n      <td>4</td>\n      <td>2nd of 2 or more primaries</td>\n      <td>No</td>\n      <td>2</td>\n      <td>2007</td>\n      <td>2007</td>\n      <td>Widowed</td>\n      <td>$75,000+</td>\n      <td>Counties in metropolitan areas ge 1 million pop</td>\n      <td>Death</td>\n    </tr>\n    <tr>\n      <th>6</th>\n      <td>70-74 years</td>\n      <td>2005</td>\n      <td>Female</td>\n      <td>Non-Hispanic White</td>\n      <td>Breast</td>\n      <td>9.6.1 Breast - infiltrating duct</td>\n      <td>Left - origin of primary</td>\n      <td>T4</td>\n      <td>N0</td>\n      <td>M0</td>\n      <td>...</td>\n      <td>7</td>\n      <td>2nd of 2 or more primaries</td>\n      <td>No</td>\n      <td>2</td>\n      <td>2005</td>\n      <td>2005</td>\n      <td>Widowed</td>\n      <td>$75,000+</td>\n      <td>Counties in metropolitan areas ge 1 million pop</td>\n      <td>Death</td>\n    </tr>\n    <tr>\n      <th>7</th>\n      <td>80-84 years</td>\n      <td>2009</td>\n      <td>Female</td>\n      <td>Non-Hispanic White</td>\n      <td>Stomach</td>\n      <td>9.3.2.2 Stomach - signet ring</td>\n      <td>Not a paired  site</td>\n      <td>T3</td>\n      <td>N0</td>\n      <td>M0</td>\n      <td>...</td>\n      <td>11</td>\n      <td>2nd of 2 or more primaries</td>\n      <td>No</td>\n      <td>2</td>\n      <td>2010</td>\n      <td>2010</td>\n      <td>Widowed</td>\n      <td>$75,000+</td>\n      <td>Counties in metropolitan areas ge 1 million pop</td>\n      <td>Death</td>\n    </tr>\n    <tr>\n      <th>8</th>\n      <td>75-79 years</td>\n      <td>2006</td>\n      <td>Female</td>\n      <td>Non-Hispanic White</td>\n      <td>Lung and Bronchus</td>\n      <td>9.4.2.1 Non-small cell - adenocarcinoma</td>\n      <td>Left - origin of primary</td>\n      <td>T2</td>\n      <td>N0</td>\n      <td>M0</td>\n      <td>...</td>\n      <td>128</td>\n      <td>2nd of 2 or more primaries</td>\n      <td>No</td>\n      <td>2</td>\n      <td>2017</td>\n      <td>2017</td>\n      <td>Married (including common law)</td>\n      <td>$75,000+</td>\n      <td>Counties in metropolitan areas ge 1 million pop</td>\n      <td>Alive</td>\n    </tr>\n    <tr>\n      <th>9</th>\n      <td>35-39 years</td>\n      <td>2004</td>\n      <td>Female</td>\n      <td>Non-Hispanic White</td>\n      <td>Breast</td>\n      <td>9.6.1 Breast - infiltrating duct</td>\n      <td>Right - origin of primary</td>\n      <td>T3</td>\n      <td>N0</td>\n      <td>M0</td>\n      <td>...</td>\n      <td>130</td>\n      <td>2nd of 2 or more primaries</td>\n      <td>No</td>\n      <td>3</td>\n      <td>2015</td>\n      <td>2015</td>\n      <td>Married (including common law)</td>\n      <td>$75,000+</td>\n      <td>Counties in metropolitan areas ge 1 million pop</td>\n      <td>Alive</td>\n    </tr>\n  </tbody>\n</table>\n<p>10 rows × 31 columns</p>\n</div>"
     },
     "execution_count": 2,
     "metadata": {},
     "output_type": "execute_result"
    }
   ],
   "source": [
    "data.head(10)"
   ],
   "metadata": {
    "collapsed": false,
    "ExecuteTime": {
     "start_time": "2023-05-29T01:00:33.481568Z",
     "end_time": "2023-05-29T01:00:33.546615Z"
    }
   }
  },
  {
   "cell_type": "code",
   "execution_count": 6,
   "outputs": [
    {
     "ename": "SyntaxError",
     "evalue": "invalid syntax (2459655102.py, line 1)",
     "output_type": "error",
     "traceback": [
      "\u001B[1;36m  Cell \u001B[1;32mIn[6], line 1\u001B[1;36m\u001B[0m\n\u001B[1;33m    x_train = data.iloc[:,(0:3,6:17,22:23, 27:29)]\u001B[0m\n\u001B[1;37m                            ^\u001B[0m\n\u001B[1;31mSyntaxError\u001B[0m\u001B[1;31m:\u001B[0m invalid syntax\n"
     ]
    }
   ],
   "source": [],
   "metadata": {
    "collapsed": false
   }
  }
 ],
 "metadata": {
  "kernelspec": {
   "display_name": "Python 3",
   "language": "python",
   "name": "python3"
  },
  "language_info": {
   "codemirror_mode": {
    "name": "ipython",
    "version": 2
   },
   "file_extension": ".py",
   "mimetype": "text/x-python",
   "name": "python",
   "nbconvert_exporter": "python",
   "pygments_lexer": "ipython2",
   "version": "2.7.6"
  }
 },
 "nbformat": 4,
 "nbformat_minor": 0
}
